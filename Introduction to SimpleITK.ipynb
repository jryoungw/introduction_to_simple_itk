{
 "cells": [
  {
   "cell_type": "markdown",
   "metadata": {},
   "source": [
    "# Every Data of this notebook can be downloaded from : \n",
    "\n",
    "### Url : https://www.dropbox.com/sh/aj110jc65wrzm5g/AAAC_A76q7THYzZ2w5p50GQ3a?dl=0"
   ]
  },
  {
   "cell_type": "markdown",
   "metadata": {},
   "source": [
    "# Reference \n",
    "\n",
    "### Url : http://insightsoftwareconsortium.github.io/SimpleITK-Notebooks/"
   ]
  },
  {
   "cell_type": "markdown",
   "metadata": {},
   "source": [
    "# Load Packages"
   ]
  },
  {
   "cell_type": "code",
   "execution_count": null,
   "metadata": {},
   "outputs": [],
   "source": [
    "!pip install SimpleITK SimpleITK\n",
    "!pip install numpy\n",
    "\n",
    "import SimpleITK as sitk\n",
    "import numpy as np\n",
    "import os\n",
    "import matplotlib.pyplot as plt"
   ]
  },
  {
   "cell_type": "markdown",
   "metadata": {},
   "source": [
    "# Generate Images"
   ]
  },
  {
   "cell_type": "code",
   "execution_count": null,
   "metadata": {
    "collapsed": true
   },
   "outputs": [],
   "source": [
    "image_2D = sitk.Image(64, 64, sitk.sitkFloat32)"
   ]
  },
  {
   "cell_type": "code",
   "execution_count": null,
   "metadata": {},
   "outputs": [],
   "source": [
    "print(image_2D)"
   ]
  },
  {
   "cell_type": "code",
   "execution_count": null,
   "metadata": {},
   "outputs": [],
   "source": [
    "image_2D_npy = sitk.GetArrayFromImage(image_2D)\n",
    "print(image_2D_npy)\n",
    "plt.imshow(image_2D_npy)\n",
    "plt.show()"
   ]
  },
  {
   "cell_type": "markdown",
   "metadata": {},
   "source": [
    "# Image Processing Exercise - with Kaggle pneumothorax dataset"
   ]
  },
  {
   "cell_type": "markdown",
   "metadata": {},
   "source": [
    "## Sign-in and download pneumothorax data\n",
    "\n",
    "### Url : https://www.kaggle.com/c/siim-acr-pneumothorax-segmentation/data\n",
    "\n",
    "### <font color='red'>Download Data to current directory!!!</font>"
   ]
  },
  {
   "cell_type": "code",
   "execution_count": null,
   "metadata": {},
   "outputs": [],
   "source": [
    "# Load files\n",
    "\n",
    "path = os.path.join('.', 'stage_2_images')\n",
    "print(path)\n",
    "filelist = os.listdir(path)"
   ]
  },
  {
   "cell_type": "code",
   "execution_count": null,
   "metadata": {},
   "outputs": [],
   "source": [
    "# Print first file of files\n",
    "\n",
    "print(filelist[0])"
   ]
  },
  {
   "cell_type": "code",
   "execution_count": null,
   "metadata": {},
   "outputs": [],
   "source": [
    "# Try load first file with sitk\n",
    "\n",
    "dcm = sitk.ReadImage(filelist[0])"
   ]
  },
  {
   "cell_type": "code",
   "execution_count": null,
   "metadata": {},
   "outputs": [],
   "source": [
    "# Try load first file with path appended\n",
    "\n",
    "filelist = [os.path.join(path, i) for i in filelist]\n",
    "print(filelist)"
   ]
  },
  {
   "cell_type": "code",
   "execution_count": null,
   "metadata": {},
   "outputs": [],
   "source": [
    "k = np.random.choice(len(filelist), 1, replace=False)[0]\n",
    "\n",
    "dcm = sitk.ReadImage(filelist[k])\n",
    "\n",
    "print(dcm)"
   ]
  },
  {
   "cell_type": "code",
   "execution_count": null,
   "metadata": {},
   "outputs": [],
   "source": [
    "# Show dicom pixel values\n",
    "\n",
    "npy = sitk.GetArrayFromImage(dcm)\n",
    "plt.imshow(npy)\n",
    "plt.show()"
   ]
  },
  {
   "cell_type": "code",
   "execution_count": null,
   "metadata": {},
   "outputs": [],
   "source": [
    "# print shape of image\n",
    "\n",
    "print(npy.shape)"
   ]
  },
  {
   "cell_type": "code",
   "execution_count": null,
   "metadata": {},
   "outputs": [],
   "source": [
    "# Resize image shape\n",
    "\n",
    "npy = npy.reshape((1024,1024)) # same as npy = npy.squeeze()\n",
    "\n",
    "# Show numpy array\n",
    "plt.imshow(npy)\n",
    "plt.show()"
   ]
  },
  {
   "cell_type": "code",
   "execution_count": null,
   "metadata": {},
   "outputs": [],
   "source": [
    "# Show image with gray colormap\n",
    "\n",
    "plt.imshow(npy, cmap = plt.cm.gray)\n",
    "plt.show()"
   ]
  },
  {
   "cell_type": "code",
   "execution_count": null,
   "metadata": {},
   "outputs": [],
   "source": [
    "# Show metadata of dcm file\n",
    "\n",
    "for k in dcm.GetMetaDataKeys():\n",
    "    v = dcm.GetMetaData(k)\n",
    "    print(\"({0}) == \\\"{1}\\\"\".format(k,v))"
   ]
  },
  {
   "cell_type": "code",
   "execution_count": null,
   "metadata": {
    "scrolled": true
   },
   "outputs": [],
   "source": [
    "# Show pixel bit type\n",
    "print(type(npy))\n",
    "print(type(npy[0][0]))"
   ]
  },
  {
   "cell_type": "code",
   "execution_count": null,
   "metadata": {},
   "outputs": [],
   "source": [
    "# binary representation of 1024\n",
    "\n",
    "binary1024 = bin(1024) # bin(ary) representation of 1024\n",
    "print(binary1024)\n",
    "print(type(binary1024)) # data type of binary1024"
   ]
  },
  {
   "cell_type": "code",
   "execution_count": null,
   "metadata": {},
   "outputs": [],
   "source": [
    "# Representation of -1024 with two's complement\n",
    "\n",
    "a = np.binary_repr(-1024, width=16)\n",
    "print(a)"
   ]
  },
  {
   "cell_type": "code",
   "execution_count": null,
   "metadata": {},
   "outputs": [],
   "source": [
    "# 2의 보수(Two's Complement)\n",
    "#  1024 = 0000001000000000\n",
    "# -1024 = 1111110000000000\n",
    "#\n",
    "#\n",
    "# 10000000000000000 <- 17-bit complementary number\n",
    "# -0000001000000000 <- 1024\n",
    "# =================\n",
    "#  1111111000000000 <- Two's Complement of 1024( = -1024)\n",
    "\n",
    "\n",
    "def twos_comp(binary_string, bits):\n",
    "    val = int(binary_string, 2)\n",
    "    \"\"\"compute the 2's complement of int value val\"\"\"\n",
    "    if (val & (1 << (bits - 1))) != 0:\n",
    "        val = val - (1 << bits)\n",
    "    return val\n",
    "\n",
    "print(twos_comp(a, 16))"
   ]
  },
  {
   "cell_type": "markdown",
   "metadata": {},
   "source": [
    "# Image Processing Exercise - with TCGA dataset"
   ]
  },
  {
   "cell_type": "markdown",
   "metadata": {},
   "source": [
    "## Using CT Image with 12, 16, 24 bit Dicom files\n",
    "\n",
    "### Url : https://wiki.cancerimagingarchive.net/display/Public/TCGA-LUAD\n",
    "\n",
    "### <font color='red'>Download Data to current directory!!!</font>"
   ]
  },
  {
   "cell_type": "code",
   "execution_count": null,
   "metadata": {
    "collapsed": true
   },
   "outputs": [],
   "source": [
    "# Get data\n",
    "\n",
    "CT_directory = os.path.join('.', 'siim-medical-image-analysis-tutorial', 'dicom_dir')\n",
    "\n",
    "CT_list = os.listdir(CT_directory)\n",
    "\n",
    "CT_list = [os.path.join(CT_directory, i) for i in CT_list]\n",
    "\n",
    "# Read random data from data list\n",
    "\n",
    "k = np.random.choice(len(CT_list), 1, replace=False)[0]\n",
    "\n",
    "CT = CT_list[k]"
   ]
  },
  {
   "cell_type": "code",
   "execution_count": null,
   "metadata": {
    "collapsed": true
   },
   "outputs": [],
   "source": [
    "# Read randomly chosen data\n",
    "\n",
    "CT_dcm = sitk.ReadImage(CT)"
   ]
  },
  {
   "cell_type": "code",
   "execution_count": null,
   "metadata": {
    "collapsed": true
   },
   "outputs": [],
   "source": [
    "# Get numpy array of chosen data\n",
    "\n",
    "CT_npy = sitk.GetArrayFromImage(CT_dcm)"
   ]
  },
  {
   "cell_type": "code",
   "execution_count": null,
   "metadata": {},
   "outputs": [],
   "source": [
    "# Print Max pixel value of chosen dicom\n",
    "print(np.max(CT_npy))\n",
    "\n",
    "# Print shape of chosen dicom\n",
    "print(CT_npy.shape)\n",
    "\n",
    "# Print bit type of pixel value of chosen dicom\n",
    "print(type(CT_npy[0][0][0]))\n",
    "print(CT_dcm.GetPixelIDTypeAsString())"
   ]
  },
  {
   "cell_type": "code",
   "execution_count": null,
   "metadata": {},
   "outputs": [],
   "source": [
    "plt.imshow(CT_npy.reshape((512,512)), cmap = plt.cm.gray)\n",
    "plt.show()"
   ]
  },
  {
   "cell_type": "code",
   "execution_count": null,
   "metadata": {
    "scrolled": false
   },
   "outputs": [],
   "source": [
    "for k in CT_dcm.GetMetaDataKeys():\n",
    "    v = CT_dcm.GetMetaData(k)\n",
    "    print(\"({0}) == \\\"{1}\\\"\".format(k,v))\n"
   ]
  },
  {
   "cell_type": "markdown",
   "metadata": {},
   "source": [
    "### Dicom Tags : https://www.dicomlibrary.com/dicom/dicom-tags/"
   ]
  },
  {
   "cell_type": "code",
   "execution_count": null,
   "metadata": {},
   "outputs": [],
   "source": [
    "print(CT_npy) # Signed dicom file"
   ]
  },
  {
   "cell_type": "code",
   "execution_count": null,
   "metadata": {},
   "outputs": [],
   "source": [
    "print(\"Max pixel value : \", CT_npy.max())\n",
    "print(\"Min pixel value : \", np.min(CT_npy))"
   ]
  },
  {
   "cell_type": "code",
   "execution_count": null,
   "metadata": {
    "collapsed": true
   },
   "outputs": [],
   "source": [
    "# Normalization for dicom\n",
    "# 1. Standardization : mean to be 0\n",
    "standardization = (CT_npy - np.mean(CT_npy)) / np.std(CT_npy)\n",
    "\n",
    "# 2. MinMax scaling 1 : 0~1\n",
    "minmax1 = (CT_npy - np.min(CT_npy)) / (np.max(CT_npy) - np.min(CT_npy))\n",
    "\n",
    "# 3. MinMax scaling 2 : -1~1\n",
    "minmax2 = 2*(CT_npy - np.min(CT_npy)) / (np.max(CT_npy) - np.min(CT_npy)) - 1"
   ]
  },
  {
   "cell_type": "code",
   "execution_count": null,
   "metadata": {},
   "outputs": [],
   "source": [
    "plt.hist(CT_npy.flatten(), bins=50)\n",
    "plt.title(\"Original histogram\")\n",
    "plt.show()"
   ]
  },
  {
   "cell_type": "code",
   "execution_count": null,
   "metadata": {},
   "outputs": [],
   "source": [
    "plt.hist(standardization.flatten(), bins=50)\n",
    "plt.title(\"Standardization\")\n",
    "plt.show()"
   ]
  },
  {
   "cell_type": "code",
   "execution_count": null,
   "metadata": {},
   "outputs": [],
   "source": [
    "plt.hist(minmax1.flatten(), bins=50)\n",
    "plt.title(\"MinMax1\")\n",
    "plt.show()"
   ]
  },
  {
   "cell_type": "code",
   "execution_count": null,
   "metadata": {},
   "outputs": [],
   "source": [
    "plt.hist(minmax2.flatten(), bins=50)\n",
    "plt.title(\"MinMax2\")\n",
    "plt.show()"
   ]
  },
  {
   "cell_type": "markdown",
   "metadata": {},
   "source": [
    "## Transformations and Resampling"
   ]
  },
  {
   "cell_type": "code",
   "execution_count": null,
   "metadata": {},
   "outputs": [],
   "source": [
    "# How to transform image - 1. linear interpolation\n",
    "\n",
    "\n",
    "\n",
    "rate = 2\n",
    "\n",
    "\n",
    "reference_img = CT_dcm\n",
    "voxel_size = CT_dcm.GetSpacing() # Get Image voxel size\n",
    "print(\"Original voxel size : \", voxel_size)\n",
    "plt.imshow(sitk.GetArrayFromImage(reference_img).squeeze(), cmap = 'gray')\n",
    "plt.show()\n",
    "\n",
    "resamplefilter = sitk.ResampleImageFilter()\n",
    "resamplefilter.SetInterpolator(sitk.sitkLinear)\n",
    "resamplefilter.SetOutputDirection(reference_img.GetDirection())\n",
    "resamplefilter.SetOutputOrigin(reference_img.GetOrigin())\n",
    "resamplefilter.SetOutputSpacing(voxel_size)\n",
    "a, b, c = reference_img.GetSize()\n",
    "print(\"Original image size : ({0}, {1}, {2})\".format(a,b,c))\n",
    "\n",
    "a, b= a//rate, b//rate\n",
    "resamplefilter.SetSize((a,b,c))\n",
    "newimage1 = resamplefilter.Execute(reference_img)\n",
    "newimage1_npy = sitk.GetArrayFromImage(newimage1)\n",
    "plt.imshow(newimage1_npy.squeeze(), cmap = 'gray')\n",
    "plt.show()\n",
    "print(\"New image size : ({0}, {1}, {2})\".format(a,b,c))"
   ]
  },
  {
   "cell_type": "markdown",
   "metadata": {},
   "source": [
    "### Why image has been sliced?"
   ]
  },
  {
   "cell_type": "code",
   "execution_count": null,
   "metadata": {},
   "outputs": [],
   "source": [
    "# How to transform image - 1. linear interpolation\n",
    "\n",
    "\n",
    "rate = 2\n",
    "\n",
    "\n",
    "reference_img = CT_dcm\n",
    "voxel_size = CT_dcm.GetSpacing() # Get Image voxel size\n",
    "print(\"Original voxel size : \", voxel_size)\n",
    "plt.imshow(sitk.GetArrayFromImage(reference_img).squeeze(), cmap = 'gray')\n",
    "plt.show()\n",
    "resamplefilter = sitk.ResampleImageFilter()\n",
    "resamplefilter.SetInterpolator(sitk.sitkLinear)\n",
    "resamplefilter.SetOutputDirection(reference_img.GetDirection())\n",
    "resamplefilter.SetOutputOrigin(reference_img.GetOrigin())\n",
    "# resamplefilter.SetOutputSpacing(voxel_size) Change this line to\n",
    "x, y, z = reference_img.GetSpacing()\n",
    "resamplefilter.SetOutputSpacing((x*rate, y*rate, z))\n",
    "####################################################################\n",
    "a, b, c = reference_img.GetSize()\n",
    "print(\"Original image size : ({0}, {1}, {2})\".format(a,b,c))\n",
    "\n",
    "a, b= a//rate, b//rate\n",
    "resamplefilter.SetSize((a,b,c))\n",
    "newimage1 = resamplefilter.Execute(reference_img)\n",
    "newimage1_npy = sitk.GetArrayFromImage(newimage1)\n",
    "plt.imshow(newimage1_npy.squeeze(), cmap = 'gray')\n",
    "plt.show()\n",
    "print(\"New image size : ({0}, {1}, {2})\".format(a,b,c))"
   ]
  },
  {
   "cell_type": "code",
   "execution_count": null,
   "metadata": {},
   "outputs": [],
   "source": [
    "# How to transform image - 2. nearest neighborhood method\n",
    "\n",
    "\n",
    "rate = 0.5\n",
    "\n",
    "\n",
    "reference_img = CT_dcm\n",
    "voxel_size = CT_dcm.GetSpacing() # Get Image voxel size\n",
    "print(\"Original voxel size : \", voxel_size)\n",
    "plt.imshow(sitk.GetArrayFromImage(reference_img).squeeze(), cmap = 'gray')\n",
    "plt.show()\n",
    "resamplefilter = sitk.ResampleImageFilter()\n",
    "resamplefilter.SetInterpolator(sitk.sitkNearestNeighbor)\n",
    "resamplefilter.SetOutputDirection(reference_img.GetDirection())\n",
    "resamplefilter.SetOutputOrigin(reference_img.GetOrigin())\n",
    "# resamplefilter.SetOutputSpacing([1.0,1.0,1.0]) Change this line to\n",
    "x, y, z = reference_img.GetSpacing()\n",
    "resamplefilter.SetOutputSpacing((x*rate, y*rate, z))\n",
    "####################################################################\n",
    "a, b, c = reference_img.GetSize()\n",
    "print(\"Original image size : ({0}, {1}, {2})\".format(a,b,c))\n",
    "\n",
    "a, b= int(a/rate), int(b/rate)\n",
    "resamplefilter.SetSize((a,b,c))\n",
    "newimage1 = resamplefilter.Execute(reference_img)\n",
    "newimage1_npy = sitk.GetArrayFromImage(newimage1)\n",
    "plt.imshow(newimage1_npy.squeeze(), cmap = 'gray')\n",
    "plt.show()\n",
    "print(\"New image size : ({0}, {1}, {2})\".format(a,b,c))"
   ]
  },
  {
   "cell_type": "code",
   "execution_count": null,
   "metadata": {
    "scrolled": false
   },
   "outputs": [],
   "source": [
    "# Comparison of interpolators\n",
    "\n",
    "\n",
    "\n",
    "# 1. Linear interpolator\n",
    "\n",
    "rate = 0.5\n",
    "\n",
    "reference_img = CT_dcm\n",
    "voxel_size = CT_dcm.GetSpacing() # Get Image voxel size\n",
    "resamplefilter = sitk.ResampleImageFilter()\n",
    "resamplefilter.SetInterpolator(sitk.sitkLinear)\n",
    "resamplefilter.SetOutputDirection(reference_img.GetDirection())\n",
    "resamplefilter.SetOutputOrigin(reference_img.GetOrigin())\n",
    "# resamplefilter.SetOutputSpacing([1.0,1.0,1.0]) Change this line to\n",
    "x, y, z = reference_img.GetSpacing()\n",
    "resamplefilter.SetOutputSpacing((x*rate, y*rate, z))\n",
    "####################################################################\n",
    "a, b, c = reference_img.GetSize()\n",
    "\n",
    "a, b= int(a/rate), int(b/rate)\n",
    "resamplefilter.SetSize((a,b,c))\n",
    "newimage1 = resamplefilter.Execute(reference_img)\n",
    "newimage1_npy = sitk.GetArrayFromImage(newimage1)\n",
    "plt.figure(figsize=(15,15))\n",
    "plt.title(\"1. Linear interpolation\")\n",
    "plt.imshow(newimage1_npy.squeeze(), cmap = 'gray')\n",
    "plt.show()\n",
    "print(\"New image size : ({0}, {1}, {2})\".format(a,b,c))\n",
    "\n",
    "\n",
    "# 2. Nearest neighborhood interpolation\n",
    "\n",
    "\n",
    "reference_img = CT_dcm\n",
    "voxel_size = CT_dcm.GetSpacing() # Get Image voxel size\n",
    "\n",
    "resamplefilter = sitk.ResampleImageFilter()\n",
    "resamplefilter.SetInterpolator(sitk.sitkNearestNeighbor)\n",
    "resamplefilter.SetOutputDirection(reference_img.GetDirection())\n",
    "resamplefilter.SetOutputOrigin(reference_img.GetOrigin())\n",
    "# resamplefilter.SetOutputSpacing([1.0,1.0,1.0]) Change this line to\n",
    "x, y, z = reference_img.GetSpacing()\n",
    "resamplefilter.SetOutputSpacing((x*rate, y*rate, z))\n",
    "####################################################################\n",
    "a, b, c = reference_img.GetSize()\n",
    "\n",
    "a, b= int(a/rate), int(b/rate)\n",
    "resamplefilter.SetSize((a,b,c))\n",
    "newimage1 = resamplefilter.Execute(reference_img)\n",
    "newimage1_npy = sitk.GetArrayFromImage(newimage1)\n",
    "plt.figure(figsize=(15,15))\n",
    "plt.title(\"2. Nearest neighborhood interpolation\")\n",
    "plt.imshow(newimage1_npy.squeeze(), cmap = 'gray')\n",
    "plt.show()\n",
    "print(\"New image size : ({0}, {1}, {2})\".format(a,b,c))\n",
    "\n",
    "\n",
    "# 3. B-spline interpolation\n",
    "\n",
    "\n",
    "reference_img = CT_dcm\n",
    "voxel_size = CT_dcm.GetSpacing() # Get Image voxel size\n",
    "\n",
    "resamplefilter = sitk.ResampleImageFilter()\n",
    "resamplefilter.SetInterpolator(sitk.sitkBSpline)\n",
    "resamplefilter.SetOutputDirection(reference_img.GetDirection())\n",
    "resamplefilter.SetOutputOrigin(reference_img.GetOrigin())\n",
    "# resamplefilter.SetOutputSpacing([1.0,1.0,1.0]) Change this line to\n",
    "x, y, z = reference_img.GetSpacing()\n",
    "resamplefilter.SetOutputSpacing((x*rate, y*rate, z))\n",
    "####################################################################\n",
    "a, b, c = reference_img.GetSize()\n",
    "\n",
    "a, b= int(a/rate), int(b/rate)\n",
    "resamplefilter.SetSize((a,b,c))\n",
    "newimage1 = resamplefilter.Execute(reference_img)\n",
    "newimage1_npy = sitk.GetArrayFromImage(newimage1)\n",
    "plt.figure(figsize=(15,15))\n",
    "plt.title(\"3. B-spline interpolation\")\n",
    "plt.imshow(newimage1_npy.squeeze(), cmap = 'gray')\n",
    "plt.show()\n",
    "print(\"New image size : ({0}, {1}, {2})\".format(a,b,c))\n",
    "\n",
    "\n",
    "# 4. Gaussian interpolation\n",
    "\n",
    "reference_img = CT_dcm\n",
    "voxel_size = CT_dcm.GetSpacing() # Get Image voxel size\n",
    "\n",
    "resamplefilter = sitk.ResampleImageFilter()\n",
    "resamplefilter.SetInterpolator(sitk.sitkGaussian)\n",
    "resamplefilter.SetOutputDirection(reference_img.GetDirection())\n",
    "resamplefilter.SetOutputOrigin(reference_img.GetOrigin())\n",
    "# resamplefilter.SetOutputSpacing([1.0,1.0,1.0]) Change this line to\n",
    "x, y, z = reference_img.GetSpacing()\n",
    "resamplefilter.SetOutputSpacing((x*rate, y*rate, z))\n",
    "####################################################################\n",
    "a, b, c = reference_img.GetSize()\n",
    "\n",
    "a, b= int(a/rate), int(b/rate)\n",
    "resamplefilter.SetSize((a,b,c))\n",
    "newimage1 = resamplefilter.Execute(reference_img)\n",
    "newimage1_npy = sitk.GetArrayFromImage(newimage1)\n",
    "plt.figure(figsize=(15,15))\n",
    "plt.title('4. Gaussian interpolation')\n",
    "plt.imshow(newimage1_npy.squeeze(), cmap = 'gray')\n",
    "plt.show()\n",
    "print(\"New image size : ({0}, {1}, {2})\".format(a,b,c))"
   ]
  },
  {
   "cell_type": "markdown",
   "metadata": {},
   "source": [
    "# Introduction to Segmentation"
   ]
  },
  {
   "cell_type": "code",
   "execution_count": null,
   "metadata": {
    "collapsed": true
   },
   "outputs": [],
   "source": [
    "def img_show(npy_arr, figsize = (5,5), figtitle = None, colormap = 'gray', axis_onoff = 'off'):\n",
    "    \n",
    "    npy_arr = npy_arr.squeeze()\n",
    "    \n",
    "    assert len(npy_arr.shape) in [2,3,4]\n",
    "    \n",
    "    plt.figure(figsize = figsize)\n",
    "    plt.imshow(npy_arr, cmap = colormap)\n",
    "    plt.axis(axis_onoff)\n",
    "    if figtitle != None:\n",
    "        plt.title(figtitle)\n",
    "    plt.show()"
   ]
  },
  {
   "cell_type": "code",
   "execution_count": null,
   "metadata": {},
   "outputs": [],
   "source": [
    "# Randomly select CT image from TCGA dataset again\n",
    "\n",
    "k = np.random.choice(len(CT_list), 1, replace = False)[0]\n",
    "\n",
    "print(CT_list[k])\n",
    "CT_dcm = sitk.ReadImage(CT_list[k])\n",
    "\n",
    "img_show(sitk.GetArrayFromImage(CT_dcm))"
   ]
  },
  {
   "cell_type": "code",
   "execution_count": null,
   "metadata": {},
   "outputs": [],
   "source": [
    "img_show(sitk.GetArrayFromImage(CT_dcm), figtitle = 'Original')\n",
    "\n",
    "threshold = 1000\n",
    "threshold_npy = CT_dcm>threshold\n",
    "CT_255 = sitk.Cast(sitk.RescaleIntensity(CT_dcm), sitk.sitkUInt8)\n",
    "overlaid1 = sitk.LabelOverlay(CT_255, threshold_npy)\n",
    "img_show(sitk.GetArrayFromImage(overlaid1), figtitle = 'Threshold 1000')\n",
    "\n",
    "\n",
    "threshold = 500\n",
    "threshold_npy = CT_dcm>threshold\n",
    "CT_255 = sitk.Cast(sitk.RescaleIntensity(CT_dcm), sitk.sitkUInt8)\n",
    "overlaid2 = sitk.LabelOverlay(CT_255, threshold_npy)\n",
    "img_show(sitk.GetArrayFromImage(overlaid2), figtitle = 'Threshold 500')\n",
    "\n",
    "\n",
    "threshold = 100\n",
    "threshold_npy = CT_dcm>threshold\n",
    "CT_255 = sitk.Cast(sitk.RescaleIntensity(CT_dcm), sitk.sitkUInt8)\n",
    "overlaid3 = sitk.LabelOverlay(CT_255, threshold_npy)\n",
    "img_show(sitk.GetArrayFromImage(overlaid3), figtitle = 'Threshold 100')"
   ]
  },
  {
   "cell_type": "markdown",
   "metadata": {},
   "source": [
    "### Save Image and Reload"
   ]
  },
  {
   "cell_type": "code",
   "execution_count": null,
   "metadata": {
    "collapsed": true
   },
   "outputs": [],
   "source": [
    "sitk.WriteImage(overlaid3, 'Segmentation_with_threshold_100.png', True)"
   ]
  },
  {
   "cell_type": "code",
   "execution_count": null,
   "metadata": {},
   "outputs": [],
   "source": [
    "png = sitk.GetArrayFromImage(sitk.ReadImage('Segmentation_with_threshold_100.png'))\n",
    "plt.imshow(png)\n",
    "plt.axis('off')\n",
    "plt.show()"
   ]
  },
  {
   "cell_type": "markdown",
   "metadata": {},
   "source": [
    "# Transformations"
   ]
  },
  {
   "cell_type": "code",
   "execution_count": null,
   "metadata": {},
   "outputs": [],
   "source": [
    "a = np.random.randint(0,100, 2)\n",
    "print(\"Coordinate of random vector : \", a)\n",
    "\n",
    "def transformation_plot(points, xrange = [0,150], yrange = [0,150], dottype = 'o'):\n",
    "    colors = [i + dottype for i in ['g', 'r', 'b', 'c', 'm', 'y', 'k', 'w']]\n",
    "    if len(points)>len(colors):\n",
    "        print(\"Number of points should be smaller or less than {0}\".format(len(colors)))\n",
    "    assert len(points)<=len(colors)\n",
    "    \n",
    "    for i in range(len(points)):\n",
    "        assert len(points[i]) == 2\n",
    "    plt.xlim(xrange[0], xrange[1])\n",
    "    plt.ylim(yrange[0], yrange[1])\n",
    "    \n",
    "    for j in range(len(points)):\n",
    "        plt.plot(points[j][0],points[j][1], colors[j])\n",
    "    plt.show()\n",
    "transformation_plot([a])"
   ]
  },
  {
   "cell_type": "markdown",
   "metadata": {},
   "source": [
    "### Translation transform\n",
    "\n",
    "$$ y = x + b$$\n",
    "\n",
    "#### where $b$ is translation vector"
   ]
  },
  {
   "cell_type": "code",
   "execution_count": null,
   "metadata": {},
   "outputs": [],
   "source": [
    "dimension = 2\n",
    "move = [10,15] # Same as Offset\n",
    "\n",
    "translation = sitk.TranslationTransform(dimension, move)\n",
    "print(translation)"
   ]
  },
  {
   "cell_type": "code",
   "execution_count": null,
   "metadata": {},
   "outputs": [],
   "source": [
    "translated = translation.TransformPoint(a.tolist())\n",
    "print(\"Original point : ({0}, {1})\".format(a[0], a[1]))\n",
    "print(\"Translated point : ({0}, {1})\".format(translated[0], translated[1]))\n",
    "transformation_plot([a, translated])"
   ]
  },
  {
   "cell_type": "markdown",
   "metadata": {},
   "source": [
    "### Euler2DTransform\n",
    "\n",
    "$$ y = R_{\\theta}x + b$$\n",
    "\n",
    "#### where $R_{\\theta}$ is rotation matrix and $b$ is translation vector"
   ]
  },
  {
   "cell_type": "code",
   "execution_count": null,
   "metadata": {},
   "outputs": [],
   "source": [
    "p1 = np.random.randint(0, 100, 2)\n",
    "p2 = np.random.randint(0, 100, 2)\n",
    "p3 = np.random.randint(0, 100, 2)\n",
    "p1, p2, p3 = p1.tolist(), p2.tolist(), p3.tolist()\n",
    "\n",
    "origin = [0,0]\n",
    "\n",
    "print(\"Point 1 : ({0}, {1})\".format(p1[0], p1[1]))\n",
    "print(\"Point 2 : ({0}, {1})\".format(p2[0], p2[1]))\n",
    "print(\"Point 3 : ({0}, {1})\".format(p3[0], p3[1]))\n",
    "transformation_plot([p1, p2, p3, origin], xrange=[-150,150], yrange=[-150,150])"
   ]
  },
  {
   "cell_type": "code",
   "execution_count": null,
   "metadata": {},
   "outputs": [],
   "source": [
    "move = [10,15]\n",
    "\n",
    "Euler2D = sitk.Euler2DTransform()\n",
    "Euler2D.SetTranslation(move)\n",
    "Euler2D.SetAngle(np.pi/2)\n",
    "transformed1 = Euler2D.TransformPoint(p1)\n",
    "transformed2 = Euler2D.TransformPoint(p2)\n",
    "transformed3 = Euler2D.TransformPoint(p3)\n",
    "\n",
    "print(\"Transformed 1 : ({0}, {1})\".format(transformed1[0], transformed1[1]))\n",
    "print(\"Transformed 2 : ({0}, {1})\".format(transformed2[0], transformed2[1]))\n",
    "print(\"Transformed 3 : ({0}, {1})\".format(transformed3[0], transformed3[1]))\n",
    "transformation_plot([transformed1, transformed2, transformed3, origin], xrange=[-150,150], yrange=[-150,150])"
   ]
  },
  {
   "cell_type": "markdown",
   "metadata": {},
   "source": [
    "#### Types of transformations\n",
    "\n",
    "1. sitk.TranslationTransform\n",
    "2. sitk.VersorTransform\n",
    "3. sitk.VersorRigid3DTransform\n",
    "4. sitk.Euler2DTransform\n",
    "5. sitk.Euler3DTransform\n",
    "6. sitk.Similarity2DTransform\n",
    "7. sitk.Similarity3DTransform\n",
    "8. sitk.ScaleTransform\n",
    "9. sitk.ScaleVersor3DTransform\n",
    "10. sitk.ScaleSkewVersor3DTransform\n",
    "11. sitk.AffineTransform\n",
    "12. sitk.BSplineTransform\n",
    "13. sitk.DisplacementFieldTransform\n",
    "14. sitk.Transform"
   ]
  },
  {
   "cell_type": "markdown",
   "metadata": {},
   "source": [
    "# Histogram Equalization"
   ]
  },
  {
   "cell_type": "code",
   "execution_count": null,
   "metadata": {},
   "outputs": [],
   "source": [
    "k = np.random.choice(len(filelist), 1, replace=False)[0]\n",
    "\n",
    "X_dcm = sitk.ReadImage(filelist[k])\n",
    "\n",
    "X_npy = sitk.GetArrayFromImage(X_dcm)\n",
    "\n",
    "plt.imshow(X_npy.squeeze(), cmap = plt.cm.gray)\n",
    "plt.show()\n",
    "plt.hist(X_npy.flatten(), bins = 50)\n",
    "plt.show()"
   ]
  },
  {
   "cell_type": "code",
   "execution_count": null,
   "metadata": {},
   "outputs": [],
   "source": [
    "histogramequalization = sitk.AdaptiveHistogramEqualizationImageFilter()"
   ]
  },
  {
   "cell_type": "code",
   "execution_count": null,
   "metadata": {
    "scrolled": false
   },
   "outputs": [],
   "source": [
    "alpha = 1\n",
    "beta = 1\n",
    "\n",
    "reference_img = CT_npy\n",
    "histogramequalization.SetAlpha(alpha)\n",
    "histogramequalization.SetBeta(beta)\n",
    "equalized = histogramequalization.Execute(X_dcm)\n",
    "equalized_npy = sitk.GetArrayFromImage(equalized).squeeze()\n",
    "plt.imshow(equalized_npy, cmap = plt.cm.gray)\n",
    "plt.show()\n",
    "plt.hist(equalized_npy.flatten(), bins = 50)\n",
    "plt.show()"
   ]
  },
  {
   "cell_type": "code",
   "execution_count": null,
   "metadata": {},
   "outputs": [],
   "source": [
    "alpha = 0\n",
    "beta = 0\n",
    "\n",
    "reference_img = CT_npy\n",
    "histogramequalization.SetAlpha(alpha)\n",
    "histogramequalization.SetBeta(beta)\n",
    "equalized = histogramequalization.Execute(X_dcm)\n",
    "equalized_npy = sitk.GetArrayFromImage(equalized).squeeze()\n",
    "plt.imshow(equalized_npy, cmap = plt.cm.gray)\n",
    "plt.show()\n",
    "plt.hist(equalized_npy.flatten(), bins = 50)\n",
    "plt.show()"
   ]
  },
  {
   "cell_type": "code",
   "execution_count": null,
   "metadata": {},
   "outputs": [],
   "source": [
    "alpha = 0\n",
    "beta = 1\n",
    "\n",
    "reference_img = CT_npy\n",
    "histogramequalization.SetAlpha(alpha)\n",
    "histogramequalization.SetBeta(beta)\n",
    "equalized = histogramequalization.Execute(X_dcm)\n",
    "equalized_npy = sitk.GetArrayFromImage(equalized).squeeze()\n",
    "plt.imshow(equalized_npy, cmap = plt.cm.gray)\n",
    "plt.show()\n",
    "plt.hist(equalized_npy.flatten(), bins = 50)\n",
    "plt.show()"
   ]
  },
  {
   "cell_type": "code",
   "execution_count": null,
   "metadata": {},
   "outputs": [],
   "source": [
    "alpha = 1\n",
    "beta = 0\n",
    "\n",
    "reference_img = CT_npy\n",
    "histogramequalization.SetAlpha(alpha)\n",
    "histogramequalization.SetBeta(beta)\n",
    "equalized = histogramequalization.Execute(X_dcm)\n",
    "equalized_npy = sitk.GetArrayFromImage(equalized).squeeze()\n",
    "plt.imshow(equalized_npy, cmap = plt.cm.gray)\n",
    "plt.show()\n",
    "plt.hist(equalized_npy.flatten(), bins = 50)\n",
    "plt.show()"
   ]
  },
  {
   "cell_type": "code",
   "execution_count": null,
   "metadata": {
    "scrolled": false
   },
   "outputs": [],
   "source": [
    "maxi = 5\n",
    "maxj = 5\n",
    "for i in range(maxi+1):\n",
    "    for j in range(maxj+1):\n",
    "        alpha = i/maxi\n",
    "        beta = j/maxj\n",
    "\n",
    "        reference_img = CT_npy\n",
    "        histogramequalization.SetAlpha(alpha)\n",
    "        histogramequalization.SetBeta(beta)\n",
    "        equalized = histogramequalization.Execute(X_dcm)\n",
    "        equalized_npy = sitk.GetArrayFromImage(equalized).squeeze()\n",
    "        plt.imshow(equalized_npy, cmap = plt.cm.gray)\n",
    "        plt.title(\"Alpha : \"+str(alpha) + \", Beta : \"+str(beta))\n",
    "        plt.show()\n",
    "        plt.hist(equalized_npy.flatten(), bins = 50)\n",
    "        plt.show()"
   ]
  },
  {
   "cell_type": "code",
   "execution_count": null,
   "metadata": {
    "collapsed": true
   },
   "outputs": [],
   "source": []
  }
 ],
 "metadata": {
  "kernelspec": {
   "display_name": "Python 3",
   "language": "python",
   "name": "python3"
  },
  "language_info": {
   "codemirror_mode": {
    "name": "ipython",
    "version": 3
   },
   "file_extension": ".py",
   "mimetype": "text/x-python",
   "name": "python",
   "nbconvert_exporter": "python",
   "pygments_lexer": "ipython3",
   "version": "3.6.3"
  }
 },
 "nbformat": 4,
 "nbformat_minor": 2
}
